{
 "cells": [
  {
   "cell_type": "markdown",
   "id": "5877dc84",
   "metadata": {},
   "source": [
    "Pendulum Motion Simulation: Simple & Double Pendulum\n",
    "Simulating pendulum motion is a classic physics problem that demonstrates nonlinear dynamics and chaos, especially with the double pendulum.\n",
    "\n",
    "Simple Pendulum Simulation\n",
    "Numerical Method: Euler-Cromer or Runge-Kutta.\n",
    "\n",
    "Parameter Example: Length=1m, Mass=1kg, Gravity=9.81m/s², Initial Angle≈60°.\n",
    "\n",
    "ODE:\n",
    "\n",
    "d\n",
    "2\n",
    "θ\n",
    "d\n",
    "t\n",
    "2\n",
    "=\n",
    "−\n",
    "g\n",
    "l\n",
    "sin\n",
    "⁡\n",
    "θ\n",
    "dt \n",
    "2\n",
    " \n",
    "d \n",
    "2\n",
    " θ\n",
    " =− \n",
    "l\n",
    "g\n",
    " sinθ\n",
    "Visualization: The pendulum swings back and forth, with its angular position plotted or animated."
   ]
  },
  {
   "cell_type": "markdown",
   "id": "143473db",
   "metadata": {},
   "source": []
  },
  {
   "cell_type": "code",
   "execution_count": 2,
   "id": "b98d8e83",
   "metadata": {},
   "outputs": [],
   "source": [
    "import numpy as np\n",
    "import matplotlib.pyplot as plt\n",
    "from matplotlib.animation import FuncAnimation"
   ]
  },
  {
   "cell_type": "code",
   "execution_count": 4,
   "id": "25d4ac62",
   "metadata": {},
   "outputs": [
    {
     "data": {
      "image/png": "[encoded data removed]",
      "text/plain": [
       "<Figure size 640x480 with 1 Axes>"
      ]
     },
     "metadata": {},
     "output_type": "display_data"
    }
   ],
   "source": [
    "# Parameters\n",
    "g = 9.81       # Gravity (m/s²)\n",
    "l = 1.0        # Length (m)\n",
    "theta0 = np.pi / 3  # Initial angle (60 degrees)\n",
    "omega0 = 0.0        # Initial angular velocity\n",
    "\n",
    "dt = 0.02\n",
    "steps = 1000\n",
    "\n",
    "def derivative(theta, omega):\n",
    "    return -g / l * np.sin(theta)\n",
    "\n",
    "theta = theta0\n",
    "omega = omega0\n",
    "thetas = []\n",
    "for _ in range(steps):\n",
    "    # RK4 integration\n",
    "    k1 = dt * omega\n",
    "    l1 = dt * derivative(theta, omega)\n",
    "    k2 = dt * (omega + l1 / 2)\n",
    "    l2 = dt * derivative(theta + k1 / 2, omega + l1 / 2)\n",
    "    k3 = dt * (omega + l2 / 2)\n",
    "    l3 = dt * derivative(theta + k2 / 2, omega + l2 / 2)\n",
    "    k4 = dt * (omega + l3)\n",
    "    l4 = dt * derivative(theta + k3, omega + l3)\n",
    "\n",
    "    theta += (k1 + 2*k2 + 2*k3 + k4) / 6\n",
    "    omega += (l1 + 2*l2 + 2*l3 + l4) / 6\n",
    "    thetas.append(theta)\n",
    "\n",
    "# Convert angles to (x, y) positions\n",
    "xs = l * np.sin(thetas)\n",
    "ys = -l * np.cos(thetas)\n",
    "\n",
    "fig, ax = plt.subplots()\n",
    "line, = ax.plot([], [], 'o-', lw=2)\n",
    "ax.set_xlim(-l - 0.2, l + 0.2)\n",
    "ax.set_ylim(-l - 0.2, l + 0.2)\n",
    "ax.set_title(\"Simple Pendulum\")\n",
    "\n",
    "def animate(i):\n",
    "    line.set_data([0, xs[i]], [0, ys[i]])\n",
    "    return line,\n",
    "\n",
    "ani = FuncAnimation(fig, animate, frames=steps, interval=10, blit=True)\n",
    "plt.show()\n"
   ]
  }
 ],
 "metadata": {
  "kernelspec": {
   "display_name": "base",
   "language": "python",
   "name": "python3"
  },
  "language_info": {
   "codemirror_mode": {
    "name": "ipython",
    "version": 3
   },
   "file_extension": ".py",
   "mimetype": "text/x-python",
   "name": "python",
   "nbconvert_exporter": "python",
   "pygments_lexer": "ipython3",
   "version": "3.13.5"
  }
 },
 "nbformat": 4,
 "nbformat_minor": 5
}
