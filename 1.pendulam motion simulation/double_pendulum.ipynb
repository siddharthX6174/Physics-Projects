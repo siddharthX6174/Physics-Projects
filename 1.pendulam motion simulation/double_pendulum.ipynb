{
 "cells": [
  {
   "cell_type": "code",
   "execution_count": 1,
   "id": "b2c6c2e7",
   "metadata": {},
   "outputs": [
    {
     "data": {
      "image/png": "[encoded data removed]",
      "text/plain": [
       "<Figure size 640x480 with 1 Axes>"
      ]
     },
     "metadata": {},
     "output_type": "display_data"
    }
   ],
   "source": [
    "import numpy as np\n",
    "import matplotlib.pyplot as plt\n",
    "from matplotlib.animation import FuncAnimation\n",
    "\n",
    "# Parameters\n",
    "g = 9.81\n",
    "L1, L2 = 1.0, 1.0\n",
    "m1, m2 = 1.0, 1.0\n",
    "\n",
    "theta1_0 = np.pi / 2   # initial angle top pendulum\n",
    "theta2_0 = np.pi / 2   # initial angle lower pendulum\n",
    "omega1_0 = 0.0\n",
    "omega2_0 = 0.0\n",
    "\n",
    "dt = 0.02\n",
    "steps = 1000\n",
    "\n",
    "def derivs(state):\n",
    "    theta1, omega1, theta2, omega2 = state\n",
    "    delta = theta2 - theta1\n",
    "\n",
    "    denom1 = (m1 + m2) * L1 - m2 * L1 * np.cos(delta) * np.cos(delta)\n",
    "    denom2 = (L2 / L1) * denom1\n",
    "\n",
    "    d_omega1 = (\n",
    "        m2 * L1 * omega1 * omega1 * np.sin(delta) * np.cos(delta)\n",
    "        + m2 * g * np.sin(theta2) * np.cos(delta)\n",
    "        + m2 * L2 * omega2 * omega2 * np.sin(delta)\n",
    "        - (m1 + m2) * g * np.sin(theta1)\n",
    "    ) / denom1\n",
    "\n",
    "    d_omega2 = (\n",
    "        - m2 * L2 * omega2 * omega2 * np.sin(delta) * np.cos(delta)\n",
    "        + (m1 + m2) * g * np.sin(theta1) * np.cos(delta)\n",
    "        - (m1 + m2) * L1 * omega1 * omega1 * np.sin(delta)\n",
    "        - (m1 + m2) * g * np.sin(theta2)\n",
    "    ) / denom2\n",
    "\n",
    "    return np.array([omega1, d_omega1, omega2, d_omega2])\n",
    "\n",
    "state = np.array([theta1_0, omega1_0, theta2_0, omega2_0])\n",
    "states = []\n",
    "for _ in range(steps):\n",
    "    # RK4 integration\n",
    "    k1 = dt * derivs(state)\n",
    "    k2 = dt * derivs(state + 0.5 * k1)\n",
    "    k3 = dt * derivs(state + 0.5 * k2)\n",
    "    k4 = dt * derivs(state + k3)\n",
    "    state += (k1 + 2*k2 + 2*k3 + k4) / 6\n",
    "    states.append(state.copy())\n",
    "\n",
    "states = np.array(states)\n",
    "theta1s = states[:, 0]\n",
    "theta2s = states[:, 2]\n",
    "\n",
    "x1 = L1 * np.sin(theta1s)\n",
    "y1 = -L1 * np.cos(theta1s)\n",
    "x2 = x1 + L2 * np.sin(theta2s)\n",
    "y2 = y1 - L2 * np.cos(theta2s)\n",
    "\n",
    "fig, ax = plt.subplots()\n",
    "line, = ax.plot([], [], 'o-', lw=2)\n",
    "trace, = ax.plot([], [], '-', color='r', lw=1, alpha=0.5)\n",
    "ax.set_xlim(-2, 2)\n",
    "ax.set_ylim(-2, 2)\n",
    "ax.set_title(\"Double Pendulum\")\n",
    "ax.set_aspect('equal')\n",
    "\n",
    "def animate(i):\n",
    "    line.set_data([0, x1[i], x2[i]], [0, y1[i], y2[i]])\n",
    "    trace.set_data(x2[:i], y2[:i])\n",
    "    return line, trace\n",
    "\n",
    "ani = FuncAnimation(fig, animate, frames=steps, interval=10, blit=True)\n",
    "plt.show()\n"
   ]
  }
 ],
 "metadata": {
  "kernelspec": {
   "display_name": "base",
   "language": "python",
   "name": "python3"
  },
  "language_info": {
   "codemirror_mode": {
    "name": "ipython",
    "version": 3
   },
   "file_extension": ".py",
   "mimetype": "text/x-python",
   "name": "python",
   "nbconvert_exporter": "python",
   "pygments_lexer": "ipython3",
   "version": "3.13.5"
  }
 },
 "nbformat": 4,
 "nbformat_minor": 5
}
